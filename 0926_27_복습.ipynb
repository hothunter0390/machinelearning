{
  "nbformat": 4,
  "nbformat_minor": 0,
  "metadata": {
    "colab": {
      "provenance": [],
      "authorship_tag": "ABX9TyOJKIavb7tmRPX5K6hr+o7g",
      "include_colab_link": true
    },
    "kernelspec": {
      "name": "python3",
      "display_name": "Python 3"
    },
    "language_info": {
      "name": "python"
    }
  },
  "cells": [
    {
      "cell_type": "markdown",
      "metadata": {
        "id": "view-in-github",
        "colab_type": "text"
      },
      "source": [
        "<a href=\"https://colab.research.google.com/github/hothunter0390/machinelearning/blob/main/0926_27_%EB%B3%B5%EC%8A%B5.ipynb\" target=\"_parent\"><img src=\"https://colab.research.google.com/assets/colab-badge.svg\" alt=\"Open In Colab\"/></a>"
      ]
    },
    {
      "cell_type": "markdown",
      "source": [
        "실습 1번"
      ],
      "metadata": {
        "id": "rcCc1LiXM9b6"
      }
    },
    {
      "cell_type": "code",
      "execution_count": 4,
      "metadata": {
        "colab": {
          "base_uri": "https://localhost:8080/"
        },
        "id": "0nccMyvEMYI0",
        "outputId": "0305e66f-deff-4419-97ed-eb58bf91682f"
      },
      "outputs": [
        {
          "output_type": "stream",
          "name": "stdout",
          "text": [
            "전통적인 요리법이나 양식은 상당한 차이가 있지만, 이탈리아 요리는 다른 국가의 요리 문화에서 다양한 영감을 줄 만큼 다양하고 혁신적인 것으로 평가되고 있다. 각 지방마다 고유의 특색이 있어 그 양식도 다양하지만 크게 북부와 남부로 나눌 수 있다. 다른 나라와 국경을 맞대고 있던 북부 지방은 산업화되어 경제적으로 풍족하고 농업이 발달해 쌀이 풍부해 유제품이 다양한 반면 경제적으로 침체되었던 남부 지방은 올리브와 토마토, 모차렐라 치즈가 유명하고 특별히 해산물을 활용한 요리가 많다. 식재료와 치즈 등의 차이는 파스타의 종류와 소스와 수프 등도 다름을 의미한다.\n"
          ]
        }
      ],
      "source": [
        "import requests\n",
        "from bs4 import BeautifulSoup\n",
        "\n",
        "URL = 'https://crawlingstudy-dd3c9.web.app/01/'\n",
        "\n",
        "response = requests.get(URL)\n",
        "\n",
        "bs = BeautifulSoup(response.text, 'html.parser')\n",
        "\n",
        "result = bs.select_one('#cook').text.strip()\n",
        "\n",
        "print(result)\n"
      ]
    },
    {
      "cell_type": "markdown",
      "source": [
        "실습 2번\n",
        "\n",
        "오래 걸렸다. text.strip() 적용문제"
      ],
      "metadata": {
        "id": "x8h_4UI1NAdS"
      }
    },
    {
      "cell_type": "code",
      "source": [
        "result1 = bs.select('.tablehead')\n",
        "print(result1)\n",
        "\n",
        "result2 = bs.select('tr > td')\n",
        "print(result2)\n",
        "\n",
        "lis = []\n",
        "\n",
        "lis.append({result1[0].text:result2[0].text, result1[1].text:result2[1].text})\n",
        "\n",
        "print(lis)\n"
      ],
      "metadata": {
        "colab": {
          "base_uri": "https://localhost:8080/"
        },
        "id": "IWmAxJMtNCCF",
        "outputId": "4e52ad71-ea2f-449a-a849-e4d4e6612369"
      },
      "execution_count": 23,
      "outputs": [
        {
          "output_type": "stream",
          "name": "stdout",
          "text": [
            "[<th class=\"tablehead\">이름</th>, <th class=\"tablehead\">나이</th>]\n",
            "[<td>이몽룡</td>, <td>34</td>, <td>홍길동</td>, <td>23</td>]\n",
            "[{'이름': '이몽룡', '나이': '34'}]\n"
          ]
        }
      ]
    },
    {
      "cell_type": "markdown",
      "source": [
        "실습 3번\n",
        "눌러서 들어가야한다\n",
        "\n",
        "for문 작성해서 하자\n",
        "\n",
        "링크로 어떻게 들어가지?"
      ],
      "metadata": {
        "id": "ufIBNhyEQjeD"
      }
    },
    {
      "cell_type": "code",
      "source": [
        "result = bs.select('.a')\n",
        "print(result)"
      ],
      "metadata": {
        "colab": {
          "base_uri": "https://localhost:8080/"
        },
        "id": "Az9iqAz6REu-",
        "outputId": "5849a489-0b4a-458d-8c25-73f0afe83689"
      },
      "execution_count": 27,
      "outputs": [
        {
          "output_type": "stream",
          "name": "stdout",
          "text": [
            "[]\n"
          ]
        }
      ]
    },
    {
      "cell_type": "code",
      "source": [
        "import requests\n",
        "from bs4 import BeautifulSoup\n",
        "\n",
        "response = requests.get('https://crawlingstudy-dd3c9.web.app/01')\n",
        "soup = BeautifulSoup(response.text, 'html.parser')\n",
        "\n",
        "for link in soup.find_all('a'):\n",
        "  url ='https://crawlingstudy-dd3c9.web.app/01/' + link.attrs['href'] #/ 하나가 결과가 바뀐다,,\n",
        "  response = requests.get(url)\n",
        "  sub_page = BeautifulSoup(response.text, 'html.parser') #여기서 또 객체를 받네\n",
        "  print(sub_page.find('p').text.strip()) #단어와 공백 제거\n"
      ],
      "metadata": {
        "colab": {
          "base_uri": "https://localhost:8080/"
        },
        "id": "Bpr3FyeKToSP",
        "outputId": "0ede6520-11cd-46b0-ed0d-93fec333f323"
      },
      "execution_count": 31,
      "outputs": [
        {
          "output_type": "stream",
          "name": "stdout",
          "text": [
            "크롤링 연습사이트 01-1 페이지입니다.\n",
            "크롤링 연습사이트 01-2 페이지입니다.\n",
            "크롤링 연습사이트 01-3 페이지입니다.\n",
            "크롤링 연습사이트 01-4 페이지입니다.\n"
          ]
        }
      ]
    },
    {
      "cell_type": "code",
      "source": [
        "for link in bs.find_all('a'):\n",
        "  url ='https://crawlingstudy-dd3c9.web.app/01/' + link.attrs['href']\n",
        "\n",
        "  print(url)"
      ],
      "metadata": {
        "colab": {
          "base_uri": "https://localhost:8080/"
        },
        "id": "Yy8GS9CKTwDz",
        "outputId": "252a6630-c258-47f2-a3aa-3e7e40c6d859"
      },
      "execution_count": 30,
      "outputs": [
        {
          "output_type": "stream",
          "name": "stdout",
          "text": [
            "https://crawlingstudy-dd3c9.web.app/01/01.html\n",
            "https://crawlingstudy-dd3c9.web.app/01/02.html\n",
            "https://crawlingstudy-dd3c9.web.app/01/03.html\n",
            "https://crawlingstudy-dd3c9.web.app/01/04.html\n"
          ]
        }
      ]
    },
    {
      "cell_type": "code",
      "source": [
        "import requests\n",
        "from bs4 import BeautifulSoup\n",
        "\n",
        "response = requests.get('https://crawlingstudy-dd3c9.web.app/01')\n",
        "soup = BeautifulSoup(response.text, 'html.parser')\n",
        "\n",
        "for link in soup.select('a'):\n",
        "  url = 'https://crawlingstudy-dd3c9.web.app/01/' + link.attrs['href']\n",
        "  response = requests.get(url)\n",
        "  sub_page = BeautifulSoup(response.text, 'html.parser')\n",
        "  print(sub_page.find('p').text.strip())"
      ],
      "metadata": {
        "colab": {
          "base_uri": "https://localhost:8080/"
        },
        "id": "jyUiKZ--TwtQ",
        "outputId": "85e735f2-2702-4922-9b1b-7c19295228b9"
      },
      "execution_count": 5,
      "outputs": [
        {
          "output_type": "stream",
          "name": "stdout",
          "text": [
            "크롤링 연습사이트 01-1 페이지입니다.\n",
            "크롤링 연습사이트 01-2 페이지입니다.\n",
            "크롤링 연습사이트 01-3 페이지입니다.\n",
            "크롤링 연습사이트 01-4 페이지입니다.\n"
          ]
        }
      ]
    },
    {
      "cell_type": "markdown",
      "source": [
        "데이터 수집 복습 1번\n"
      ],
      "metadata": {
        "id": "lcjcloLkhLfO"
      }
    },
    {
      "cell_type": "code",
      "source": [
        "import requests\n",
        "from bs4 import BeautifulSoup\n",
        "\n",
        "response = requests.get('https://crawlingstudy-dd3c9.web.app/01')\n",
        "soup = BeautifulSoup(response.text, 'html.parser')\n",
        "\n",
        "print(soup.select_one('h2').text)"
      ],
      "metadata": {
        "colab": {
          "base_uri": "https://localhost:8080/"
        },
        "id": "OYHkNpgchN6u",
        "outputId": "436cabc9-47c7-4188-fa64-21e18abb4272"
      },
      "execution_count": 37,
      "outputs": [
        {
          "output_type": "stream",
          "name": "stdout",
          "text": [
            "이곳은 크롤링 연습을 위한 웹사이트입니다.\n"
          ]
        }
      ]
    },
    {
      "cell_type": "markdown",
      "source": [
        "데이터 수집 복습 2번"
      ],
      "metadata": {
        "id": "qc5tiMwEhOPi"
      }
    },
    {
      "cell_type": "code",
      "source": [
        "import requests\n",
        "from bs4 import BeautifulSoup\n",
        "\n",
        "response = requests.get('https://crawlingstudy-dd3c9.web.app/01')\n",
        "soup = BeautifulSoup(response.text, 'html.parser')\n",
        "\n",
        "print(soup.select_one('#hello').text.strip())"
      ],
      "metadata": {
        "colab": {
          "base_uri": "https://localhost:8080/"
        },
        "id": "Y216nxjKhP7y",
        "outputId": "76d4afc5-1b3a-4370-f592-f58ea90e68cb"
      },
      "execution_count": 40,
      "outputs": [
        {
          "output_type": "stream",
          "name": "stdout",
          "text": [
            "이탈리아 요리의 시작은 기원전 4세기로 거슬러 올라갈 수 있다. 대항해시대를 거치면서 아메리카 대륙에서 감자·토마토·후추·옥수수 등이 유입되어 그 종류와 풍미가 다양해졌고 현대에 이르러서는 피자와 파스타 등 많은 이탈리아 요리가 널리 퍼지게 되었다.\n"
          ]
        }
      ]
    },
    {
      "cell_type": "markdown",
      "source": [
        "데이터 수집 복습 3번"
      ],
      "metadata": {
        "id": "R5h3ipnUhQPr"
      }
    },
    {
      "cell_type": "code",
      "source": [
        "\n",
        "import requests\n",
        "from bs4 import BeautifulSoup\n",
        "\n",
        "response = requests.get('https://crawlingstudy-dd3c9.web.app/01')\n",
        "soup = BeautifulSoup(response.text, 'html.parser')\n",
        "\n",
        "#근데 다 td네 이러면 어쩌지? 순서대로 가야하나\n",
        "\n",
        "lis = [[]]\n",
        "result = soup.find_all('td')\n",
        "print(result)\n",
        "\n",
        "lis = [[result[0].text, result[1].text], [result[2].text, result[3].text]]\n",
        "\n",
        "print(lis)"
      ],
      "metadata": {
        "colab": {
          "base_uri": "https://localhost:8080/"
        },
        "id": "cG2CL2vlhRbw",
        "outputId": "29f6e410-bb34-4460-dfa8-79c67e5cf4f2"
      },
      "execution_count": 49,
      "outputs": [
        {
          "output_type": "stream",
          "name": "stdout",
          "text": [
            "[<td>이몽룡</td>, <td>34</td>, <td>홍길동</td>, <td>23</td>]\n",
            "[['이몽룡', '34'], ['홍길동', '23']]\n"
          ]
        }
      ]
    },
    {
      "cell_type": "code",
      "source": [
        "students = []\n",
        "\n",
        "for data in soup.find('table').find('tbody').find_all('tr'):\n",
        "    name = data.find_all('td')[0].text\n",
        "    age = int(data.find_all('td')[1].text)\n",
        "    students.append([name, age])\n",
        "\n",
        "print(students)\n",
        "\n",
        "result = soup.find('table').find('tbody').find_all('tr') #for문을 만들기 위해 이름이랑 나이 포괄하는 개념 !! 또 까먹었네 포괄\n",
        "\n",
        "print(result) #결과 보면 tr 첫번째 있고, 두번째 있다 -> 인덱스 0, 1이다."
      ],
      "metadata": {
        "colab": {
          "base_uri": "https://localhost:8080/"
        },
        "id": "HJTg1fWNktBM",
        "outputId": "6bd14ab1-c05f-4c35-be70-8c8de1c42f20"
      },
      "execution_count": 51,
      "outputs": [
        {
          "output_type": "stream",
          "name": "stdout",
          "text": [
            "[['이몽룡', 34], ['홍길동', 23]]\n",
            "[<tr>\n",
            "<td>이몽룡</td>\n",
            "<td>34</td>\n",
            "</tr>, <tr>\n",
            "<td>홍길동</td>\n",
            "<td>23</td>\n",
            "</tr>]\n"
          ]
        }
      ]
    },
    {
      "cell_type": "markdown",
      "source": [
        "데이터 수집 복습 4번\n",
        "\n",
        "링크 연결하는 문제!! 가 아닌 타이틀 크롤링 리스트 만들기"
      ],
      "metadata": {
        "id": "gWqeCi2VhRwT"
      }
    },
    {
      "cell_type": "code",
      "source": [
        "import requests\n",
        "from bs4 import BeautifulSoup\n",
        "\n",
        "response = requests.get('https://crawlingstudy-dd3c9.web.app/01')\n",
        "soup = BeautifulSoup(response.text, 'html.parser')\n",
        "\n",
        "lis = []\n",
        "for li in soup.find_all('a'):\n",
        "  url = 'https://crawlingstudy-dd3c9.web.app/01/' + li.attrs['href'] #연결되는 부분은 li이니까 이 파트를 잘 이어줘야 한다 !! 여기가 틀리니까 다른 값이 나온다\n",
        "  res = requests.get(url)\n",
        "  sub_page = BeautifulSoup(res.text, 'html.parser')\n",
        "  lis.append(sub_page.find('title').text)\n",
        "#오잉 근데 텍스트만 깔끔하게 나오게 하려면? -> 여기선 all 말고 하나씩 해도된다?\n",
        "\n",
        "print(lis)\n",
        "\n",
        "# 왜 근데 01-4로만 나오지? 1은 왜 안나와,,\n",
        "\n",
        "\n",
        "titles = []\n",
        "for link in soup.find_all('a'):\n",
        "    url = 'https://crawlingstudy-dd3c9.web.app/01/' + link.attrs['href']\n",
        "    res = requests.get(url)\n",
        "    soup = BeautifulSoup(res.text, 'html.parser')\n",
        "    titles.append(soup.find('title').text)\n",
        "\n",
        "print(titles)"
      ],
      "metadata": {
        "colab": {
          "base_uri": "https://localhost:8080/"
        },
        "id": "RZocBIt2hTJS",
        "outputId": "ca7efb7b-9806-482b-d030-ac03fbef3569"
      },
      "execution_count": 71,
      "outputs": [
        {
          "output_type": "stream",
          "name": "stdout",
          "text": [
            "['크롤링 연습사이트 01-1', '크롤링 연습사이트 01-2', '크롤링 연습사이트 01-3', '크롤링 연습사이트 01-4']\n",
            "['크롤링 연습사이트 01-1', '크롤링 연습사이트 01-2', '크롤링 연습사이트 01-3', '크롤링 연습사이트 01-4']\n"
          ]
        }
      ]
    },
    {
      "cell_type": "markdown",
      "source": [
        "ccs 실습 1번\n",
        "\n",
        "사이트내 인기검색 종목과 주요해외지수를 각각 크롤링하여 종목명과 주가지수를 아래와 같이 리스트로 정리해주세요\n",
        "\n",
        "우선 lst_pop 아래 있으니까\n",
        "\n",
        "근데 어떻게 각각 엮지?"
      ],
      "metadata": {
        "id": "cgK5EPXJUrbk"
      }
    },
    {
      "cell_type": "code",
      "source": [
        "import requests\n",
        "from bs4 import BeautifulSoup\n",
        "\n",
        "response = requests.get('https://crawlingstudy-dd3c9.web.app/03')\n",
        "soup = BeautifulSoup(response.text, 'html.parser')\n",
        "\n",
        "result = soup.select('.lst_pop a')\n",
        "\n",
        "result2 = soup.select('.up span')\n",
        "\n",
        "#print(result)\n",
        "#print(result2)\n",
        "\n",
        "#이걸 for문으로 처음에 집어 넣으면 된다\n",
        "# 각각 텍스트만 추출해서 어떻게 포문으로 빼지?\n",
        "\n",
        "#결국 [result[0], result2[0]],  [result[1], result2[1]] 이런 구조로 되어야 함 -> 다시 또 리스트에 넣어야함\n",
        "\n",
        "lis = [result[0].text, result2[0].text]\n",
        "#print(lis)\n",
        "\n",
        "#이걸 반복해서 만들면 된다 -> 그리고 그걸 다시 리스트에 넣고,,\n",
        "# 하나의 전체적인 범위를 설정해서 for문으로 만들어야 하고 그것을 각각 넣으면 된다 !!\n",
        "\n",
        "lis2 = []\n",
        "result3 = soup.select('.lst_pop > li')\n",
        "\n",
        "for li in result3: #reslut3 는 종목과 가격을 모두 포함하고 그래서 그것이 li가 되고 이것을 새 리스트에 넣기\n",
        "  name = li.select_one('a').text\n",
        "  score = li.select_one('span').text\n",
        "  lis2.append([name,score])\n",
        "\n",
        "print(lis2)\n",
        "\n",
        "lis3 = []\n",
        "result4 = soup.select('.lst_major > li')\n",
        "\n",
        "for li1 in result4:\n",
        "  name = li1.select_one('a').text\n",
        "  socre = li1.select_one('span').text\n",
        "  lis3.append([name, socre])\n",
        "\n",
        "print(lis3)\n",
        "\n",
        "## 결국 for 문 뒤에는 공통된 범위를 넣어야 하고 리스트에 넣을 땐 앞에 값을 더 한다고 생각하면 된다\n",
        "\n"
      ],
      "metadata": {
        "colab": {
          "base_uri": "https://localhost:8080/"
        },
        "id": "Yn1vdfRWUz7m",
        "outputId": "f7bfc867-d50c-4504-cf62-afddac2e3cbc"
      },
      "execution_count": 27,
      "outputs": [
        {
          "output_type": "stream",
          "name": "stdout",
          "text": [
            "[['써니전자', '5,000'], ['삼성전자', '55,200'], ['안랩', '81,000'], ['케이엠더블..', '57,300'], ['피피아이', '12,600'], ['KT&G', '92,500'], ['삼성전자우', '45,600'], ['대양금속', '10,550'], ['SK하이닉스', '94,700'], ['SK텔레콤', '234,000']]\n",
            "[['다우산업', '28,647.43'], ['나스닥', '9,015.03'], ['홍콩H', '11,320.56'], ['상해종합', '3,085.20'], ['니케이225', '23,656.62']]\n"
          ]
        }
      ]
    },
    {
      "cell_type": "markdown",
      "source": [
        "css 실습 2. 인기 검색 종목 + 해외지수 크롤링 -> 종목명 상한 하한 여부 리스트 정리\n"
      ],
      "metadata": {
        "id": "v4FjvOswc5g3"
      }
    },
    {
      "cell_type": "code",
      "source": [
        "import requests\n",
        "from bs4 import BeautifulSoup\n",
        "\n",
        "response = requests.get('https://crawlingstudy-dd3c9.web.app/03')\n",
        "soup = BeautifulSoup(response.text, 'html.parser')\n",
        "\n",
        "#up을 상한이라 표현, dn을 하한으로 표현하는 것이 추가됨\n",
        "#이걸 어떻게 하지? 아니네 상승, 하락이 있긴 있는데 상한 하한으로 바꿔서 표현해야하군 그렇다면? -> replace로 표현\n",
        "\n",
        "lis1 = []\n",
        "bs = soup.select('#popularItemList li')\n",
        "for li in bs:\n",
        "  name = li.select_one('a').text\n",
        "  alt = li.select_one('img').attrs['alt']\n",
        "  alt = alt.replace('상승','상한').replace('하락','하한')\n",
        "  lis1.append([name, alt])\n",
        "\n",
        "print(lis1)\n",
        "\n",
        "lis2 = []\n",
        "bs1 = soup.select('.lst_major li')\n",
        "for li2 in bs1:\n",
        "  name = li2.select_one('a').text\n",
        "  alt = li2.select_one('img').attrs['alt'] #여긴 제대로 네?\n",
        "  lis2.append([name, alt])\n",
        "\n",
        "print(lis2) #왜 안나오는거지? 앞에 .이 엄청 중요하구나,,"
      ],
      "metadata": {
        "colab": {
          "base_uri": "https://localhost:8080/"
        },
        "id": "FB6tyx-Xc_E3",
        "outputId": "860af365-6187-4a7a-b128-ac2394237a70"
      },
      "execution_count": 35,
      "outputs": [
        {
          "output_type": "stream",
          "name": "stdout",
          "text": [
            "[['써니전자', '상한'], ['삼성전자', '하한'], ['안랩', '상한'], ['케이엠더블..', '상한'], ['피피아이', '상한'], ['KT&G', '하한'], ['삼성전자우', '상한'], ['대양금속', '하한'], ['SK하이닉스', '상한'], ['SK텔레콤', '하한']]\n",
            "[['다우산업', '상한'], ['나스닥', '상한'], ['홍콩H', '상한'], ['상해종합', '상한'], ['니케이225', '하락']]\n"
          ]
        }
      ]
    },
    {
      "cell_type": "markdown",
      "source": [
        "css 실습 3번"
      ],
      "metadata": {
        "id": "ZZqwuBN8g7CY"
      }
    },
    {
      "cell_type": "markdown",
      "source": [
        "ccs 실습 4번"
      ],
      "metadata": {
        "id": "nNoGbm7ng7XR"
      }
    },
    {
      "cell_type": "markdown",
      "source": [
        "css 복습 1번"
      ],
      "metadata": {
        "id": "c75ZQfjug7vu"
      }
    },
    {
      "cell_type": "code",
      "source": [],
      "metadata": {
        "id": "HG5lTFILpUkW"
      },
      "execution_count": null,
      "outputs": []
    }
  ]
}